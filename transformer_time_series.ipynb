{
 "cells": [
  {
   "cell_type": "markdown",
   "metadata": {
    "colab_type": "text",
    "id": "NC-jvvwAyW4D"
   },
   "source": [
    "##### Copyright 2019 The TensorFlow Authors."
   ]
  },
  {
   "cell_type": "code",
   "execution_count": 1,
   "metadata": {
    "cellView": "form",
    "colab": {},
    "colab_type": "code",
    "id": "bw8YpxF4yT8a"
   },
   "outputs": [],
   "source": [
    "#@title Licensed under the Apache License, Version 2.0 (the \"License\");\n",
    "# you may not use this file except in compliance with the License.\n",
    "# You may obtain a copy of the License at\n",
    "#\n",
    "# https://www.apache.org/licenses/LICENSE-2.0\n",
    "#\n",
    "# Unless required by applicable law or agreed to in writing, software\n",
    "# distributed under the License is distributed on an \"AS IS\" BASIS,\n",
    "# WITHOUT WARRANTIES OR CONDITIONS OF ANY KIND, either express or implied.\n",
    "# See the License for the specific language governing permissions and\n",
    "# limitations under the License."
   ]
  },
  {
   "cell_type": "markdown",
   "metadata": {
    "colab_type": "text",
    "id": "nd8ddC7NQ8uZ"
   },
   "source": [
    "# Transformer Timeseries"
   ]
  },
  {
   "cell_type": "markdown",
   "metadata": {
    "colab_type": "text",
    "id": "YcK7-_3RxRvK"
   },
   "source": []
  },
  {
   "cell_type": "markdown",
   "metadata": {
    "colab_type": "text",
    "id": "rHMPkA2eQrpT"
   },
   "source": [
    "This tutorial trains a <a href=\"https://arxiv.org/abs/1706.03762\" class=\"external\">Transformer model</a> on a time series data sequence. This is an advanced example that assumes knowledge of [attention](https://www.tensorflow.org/alpha/tutorials/text/nmt_with_attention) and [transformer](https://www.tensorflow.org/alpha/tutorials/text/transformer).\n",
    "\n",
    "The core idea behind the Transformer model is *self-attention*—the ability to attend to different positions of the input sequence to compute a representation of that sequence. Transformer creates stacks of self-attention layers and is explained below in the sections *Scaled dot product attention* and *Multi-head attention*."
   ]
  },
  {
   "cell_type": "code",
   "execution_count": 1,
   "metadata": {
    "colab": {
     "base_uri": "https://localhost:8080/",
     "height": 486
    },
    "colab_type": "code",
    "id": "mb_5bl7G_n30",
    "outputId": "c3ebeb6e-2ee3-4128-a369-a22adb0f4178"
   },
   "outputs": [
    {
     "name": "stdout",
     "output_type": "stream",
     "text": [
      "Defaulting to user installation because normal site-packages is not writeable\n",
      "Requirement already satisfied: pandas in ./.local/lib/python3.6/site-packages (1.1.1)\n",
      "Requirement already satisfied: python-dateutil>=2.7.3 in /usr/local/lib/python3.6/dist-packages (from pandas) (2.8.1)\n",
      "Requirement already satisfied: pytz>=2017.2 in ./.local/lib/python3.6/site-packages (from pandas) (2020.1)\n",
      "Requirement already satisfied: numpy>=1.15.4 in /usr/local/lib/python3.6/dist-packages (from pandas) (1.18.4)\n",
      "Requirement already satisfied: six>=1.5 in /usr/local/lib/python3.6/dist-packages (from python-dateutil>=2.7.3->pandas) (1.14.0)\n",
      "\u001b[33mWARNING: You are using pip version 20.1; however, version 20.2.2 is available.\n",
      "You should consider upgrading via the '/usr/bin/python3 -m pip install --upgrade pip' command.\u001b[0m\n",
      "Defaulting to user installation because normal site-packages is not writeable\n",
      "Requirement already satisfied: sklearn in ./.local/lib/python3.6/site-packages (0.0)\n",
      "Requirement already satisfied: scikit-learn in ./.local/lib/python3.6/site-packages (from sklearn) (0.23.2)\n",
      "Requirement already satisfied: scipy>=0.19.1 in /usr/local/lib/python3.6/dist-packages (from scikit-learn->sklearn) (1.4.1)\n",
      "Requirement already satisfied: numpy>=1.13.3 in /usr/local/lib/python3.6/dist-packages (from scikit-learn->sklearn) (1.18.4)\n",
      "Requirement already satisfied: joblib>=0.11 in ./.local/lib/python3.6/site-packages (from scikit-learn->sklearn) (0.16.0)\n",
      "Requirement already satisfied: threadpoolctl>=2.0.0 in ./.local/lib/python3.6/site-packages (from scikit-learn->sklearn) (2.1.0)\n",
      "\u001b[33mWARNING: You are using pip version 20.1; however, version 20.2.2 is available.\n",
      "You should consider upgrading via the '/usr/bin/python3 -m pip install --upgrade pip' command.\u001b[0m\n",
      "Defaulting to user installation because normal site-packages is not writeable\n",
      "Requirement already satisfied: ipdb in ./.local/lib/python3.6/site-packages (0.13.3)\n",
      "Requirement already satisfied: ipython>=5.1.0; python_version >= \"3.4\" in /usr/local/lib/python3.6/dist-packages (from ipdb) (7.14.0)\n",
      "Requirement already satisfied: setuptools in /usr/local/lib/python3.6/dist-packages (from ipdb) (46.1.3)\n",
      "Requirement already satisfied: decorator in /usr/local/lib/python3.6/dist-packages (from ipython>=5.1.0; python_version >= \"3.4\"->ipdb) (4.4.2)\n",
      "Requirement already satisfied: pygments in /usr/local/lib/python3.6/dist-packages (from ipython>=5.1.0; python_version >= \"3.4\"->ipdb) (2.6.1)\n",
      "Requirement already satisfied: backcall in /usr/local/lib/python3.6/dist-packages (from ipython>=5.1.0; python_version >= \"3.4\"->ipdb) (0.1.0)\n",
      "Requirement already satisfied: prompt-toolkit!=3.0.0,!=3.0.1,<3.1.0,>=2.0.0 in /usr/local/lib/python3.6/dist-packages (from ipython>=5.1.0; python_version >= \"3.4\"->ipdb) (3.0.5)\n",
      "Requirement already satisfied: jedi>=0.10 in /usr/local/lib/python3.6/dist-packages (from ipython>=5.1.0; python_version >= \"3.4\"->ipdb) (0.17.0)\n",
      "Requirement already satisfied: pexpect; sys_platform != \"win32\" in /usr/local/lib/python3.6/dist-packages (from ipython>=5.1.0; python_version >= \"3.4\"->ipdb) (4.8.0)\n",
      "Requirement already satisfied: traitlets>=4.2 in /usr/local/lib/python3.6/dist-packages (from ipython>=5.1.0; python_version >= \"3.4\"->ipdb) (4.3.3)\n",
      "Requirement already satisfied: pickleshare in /usr/local/lib/python3.6/dist-packages (from ipython>=5.1.0; python_version >= \"3.4\"->ipdb) (0.7.5)\n",
      "Requirement already satisfied: wcwidth in /usr/local/lib/python3.6/dist-packages (from prompt-toolkit!=3.0.0,!=3.0.1,<3.1.0,>=2.0.0->ipython>=5.1.0; python_version >= \"3.4\"->ipdb) (0.1.9)\n",
      "Requirement already satisfied: parso>=0.7.0 in /usr/local/lib/python3.6/dist-packages (from jedi>=0.10->ipython>=5.1.0; python_version >= \"3.4\"->ipdb) (0.7.0)\n",
      "Requirement already satisfied: ptyprocess>=0.5 in /usr/local/lib/python3.6/dist-packages (from pexpect; sys_platform != \"win32\"->ipython>=5.1.0; python_version >= \"3.4\"->ipdb) (0.6.0)\n",
      "Requirement already satisfied: six in /usr/local/lib/python3.6/dist-packages (from traitlets>=4.2->ipython>=5.1.0; python_version >= \"3.4\"->ipdb) (1.14.0)\n",
      "Requirement already satisfied: ipython-genutils in /usr/local/lib/python3.6/dist-packages (from traitlets>=4.2->ipython>=5.1.0; python_version >= \"3.4\"->ipdb) (0.2.0)\n",
      "\u001b[33mWARNING: You are using pip version 20.1; however, version 20.2.2 is available.\n",
      "You should consider upgrading via the '/usr/bin/python3 -m pip install --upgrade pip' command.\u001b[0m\n"
     ]
    }
   ],
   "source": [
    "import tensorflow as tf\n",
    "assert tf.__version__.startswith('2')\n",
    "tf.random.set_seed(1234)\n",
    "\n",
    "#!pip install tensorflow-datasets==1.2.0\n",
    "import tensorflow_datasets as tfds\n",
    "\n",
    "import os\n",
    "import re\n",
    "import numpy as np\n",
    "\n",
    "import matplotlib.pyplot as plt\n",
    "\n",
    "import random\n",
    "import math\n",
    "\n",
    "import os\n",
    "import copy\n",
    "!pip install pandas\n",
    "import pandas as pd\n",
    "from pandas import Series\n",
    "!pip install sklearn\n",
    "from sklearn import preprocessing\n",
    "!pip install ipdb\n",
    "import ipdb"
   ]
  },
  {
   "cell_type": "markdown",
   "metadata": {
    "colab_type": "text",
    "id": "y0AqALdZCbCW"
   },
   "source": [
    "## Prepare Dataset"
   ]
  },
  {
   "cell_type": "markdown",
   "metadata": {
    "colab_type": "text",
    "id": "awb4RH3XCobf"
   },
   "source": [
    "We will use a txt file containing sequential time series data. No time is given just a single column containing numbers."
   ]
  },
  {
   "cell_type": "code",
   "execution_count": 2,
   "metadata": {
    "colab": {
     "base_uri": "https://localhost:8080/",
     "height": 52
    },
    "colab_type": "code",
    "id": "S17Nfn6W_vhd",
    "outputId": "43cd9b24-8a76-4b79-df2b-b80035a2ad22"
   },
   "outputs": [
    {
     "name": "stdout",
     "output_type": "stream",
     "text": [
      "(39244, 1)\n",
      "./test_data/time_series_data.txt\n"
     ]
    },
    {
     "data": {
      "image/png": "[encoded data removed]",
      "text/plain": [
       "<Figure size 1080x360 with 1 Axes>"
      ]
     },
     "metadata": {
      "needs_background": "light"
     },
     "output_type": "display_data"
    }
   ],
   "source": [
    "## The test data\n",
    "path_to_data =  r'./test_data/time_series_data.txt'\n",
    "newData = pd.read_csv(path_to_data, delimiter=',')\n",
    "print(newData.shape)\n",
    "\n",
    "newData = np.squeeze(newData.to_numpy()) # Convert to numpy array remove 1 length dimensions\n",
    "tdata_len = len(newData)\n",
    "\n",
    "plt.figure(figsize=(15,5))\n",
    "\n",
    "plt.plot(newData)\n",
    "plt.xlabel(\"data index number\")\n",
    "plt.ylabel(\"newData\")\n",
    "\n",
    "print(path_to_data)"
   ]
  },
  {
   "cell_type": "markdown",
   "metadata": {
    "colab_type": "text",
    "id": "iZMuzj0cVr3E"
   },
   "source": [
    "### Load and preprocess data"
   ]
  },
  {
   "cell_type": "markdown",
   "metadata": {
    "colab_type": "text",
    "id": "iZMuzj0cVr3E"
   },
   "source": []
  },
  {
   "cell_type": "code",
   "execution_count": null,
   "metadata": {
    "colab": {},
    "colab_type": "code",
    "id": "_B147qKb_0ks"
   },
   "outputs": [],
   "source": []
  },
  {
   "cell_type": "markdown",
   "metadata": {
    "colab_type": "text",
    "id": "iZMuzj0cVr3E"
   },
   "source": [
    "#### Generate the input and output sequences"
   ]
  },
  {
   "cell_type": "code",
   "execution_count": 23,
   "metadata": {
    "colab": {},
    "colab_type": "code",
    "id": "_B147qKb_0ks"
   },
   "outputs": [
    {
     "name": "stdout",
     "output_type": "stream",
     "text": [
      "testData = \n",
      " [-0.0567 -0.0571 -0.0573 ...  0.0667  0.0657  0.0646]\n",
      "testData length = 39244\n",
      "input_seq length = 218\n",
      "output_seq length = 218\n",
      "input_seq = \n",
      " [[-0.0185 -0.0182 -0.0179 ...  0.0649  0.0661  0.0673]\n",
      " [-0.0486 -0.0479 -0.0472 ... -0.0352 -0.035  -0.0348]\n",
      " [ 0.0008  0.0008  0.0007 ...  0.0096  0.0097  0.0098]\n",
      " ...\n",
      " [ 0.04    0.0399  0.0397 ... -0.0454 -0.0467 -0.048 ]\n",
      " [ 0.0037  0.0039  0.0041 ...  0.0005  0.0001 -0.0002]\n",
      " [-0.0004 -0.0004 -0.0002 ...  0.0044  0.0046  0.0048]]\n",
      "output_seq = \n",
      " [[ 0.0685  0.0697  0.0708 ...  0.0862  0.0853  0.0844]\n",
      " [-0.0346 -0.0344 -0.0341 ...  0.0056  0.0056  0.0056]\n",
      " [ 0.0098  0.0098  0.0098 ... -0.0043 -0.0047 -0.0051]\n",
      " ...\n",
      " [-0.0493 -0.0506 -0.0518 ... -0.0933 -0.0929 -0.0925]\n",
      " [-0.0006 -0.0009 -0.0013 ... -0.0066 -0.0064 -0.0063]\n",
      " [ 0.0049  0.0052  0.0053 ... -0.0004 -0.0005 -0.0007]]\n"
     ]
    },
    {
     "data": {
      "image/png": "[encoded data removed]",
      "text/plain": [
       "<Figure size 432x288 with 1 Axes>"
      ]
     },
     "metadata": {
      "needs_background": "light"
     },
     "output_type": "display_data"
    }
   ],
   "source": [
    "in_seq_len = 90\n",
    "out_seq_len = 90\n",
    "noise_factor = 0.0\n",
    "\n",
    "\n",
    "# step_period = 0.01 # data is taken at 100 Hz\n",
    "# max_time = tdata_len * step_period \n",
    "# print(\"tdata_len = \",tdata_len)\n",
    "# print(\"max_time = \",max_time)\n",
    "# min_time = 0\n",
    "# newDataTime = np.arange(min_time,max_time, step_period)\n",
    "# print(\"newDataTime = \\n\",newDataTime)\n",
    "# x = np.linspace(0, max_time, tdata_len)\n",
    "\n",
    "def true_signal(x, y_data):\n",
    "    \n",
    "    y = y_data[x]\n",
    "    return y\n",
    "\n",
    "def noise_func(x, noise_factor = 0.0):\n",
    "    return np.random.randn(len(x)) * noise_factor\n",
    "\n",
    "def generate_y_values(x, y_data, noise_factor = 1):\n",
    "    # For each array in x generate a corresponding output array y from the y_data array input.\n",
    "    return true_signal(x, y_data) + noise_func(x, noise_factor)\n",
    "\n",
    "\n",
    "def generate_train_samples(input_y, batch_size = 10, \n",
    "                           input_seq_len = in_seq_len, output_seq_len = out_seq_len):\n",
    "    # input_y is an array e.g the data to learn\n",
    "    \n",
    "    # create an index array\n",
    "    input_x = np.arange(0,len(input_y))\n",
    "    assert len(input_x) == len(input_y)\n",
    "    \n",
    "    total_start_points = len(input_x) - input_seq_len - output_seq_len\n",
    "    #print(\"total_start_points = \", total_start_points)\n",
    "    start_x_idx = np.random.choice(range(total_start_points), batch_size)\n",
    "    #print(\"start_x_idx = \\n\", start_x_idx)\n",
    "    \n",
    "    input_seq_x = [input_x[i:(i+input_seq_len)] for i in start_x_idx]\n",
    "    output_seq_x = [input_x[(i+input_seq_len):(i+input_seq_len+output_seq_len)] for i in start_x_idx]\n",
    "    #print(\"input_seq_x = \\n\", input_seq_x)\n",
    "    #print(\"output_seq_x = \\n\", output_seq_x)\n",
    "    \n",
    "    #ipdb.set_trace()\n",
    "    input_seq_y = [generate_y_values(x, input_y, noise_factor) for x in input_seq_x]\n",
    "    output_seq_y = [generate_y_values(x, input_y, noise_factor) for x in output_seq_x]\n",
    "    \n",
    "    #batch_x = np.array([[true_signal()]])\n",
    "    return np.array(input_seq_y), np.array(output_seq_y)\n",
    "\n",
    "testData = newData.flatten()\n",
    "print(\"testData = \\n\",testData)\n",
    "print(\"testData length = {}\".format(len(testData)))\n",
    "\n",
    "\n",
    "len_testData = len(testData)\n",
    "len_batch = in_seq_len + out_seq_len\n",
    "input_seq, output_seq = generate_train_samples(testData, batch_size=math.floor(len_testData/len_batch))\n",
    "print(\"input_seq length = {}\".format(len(input_seq)))\n",
    "print(\"output_seq length = {}\".format(len(output_seq)))\n",
    "print(\"input_seq = \\n\",input_seq)\n",
    "print(\"output_seq = \\n\",output_seq)\n",
    "\n",
    "l1, = plt.plot(range(in_seq_len), input_seq[1], 'bo', label = 'input sequence for one batch')\n",
    "plt_start = in_seq_len\n",
    "plt_end = in_seq_len + out_seq_len\n",
    "l2, = plt.plot(range(plt_start, plt_end), output_seq[1], 'ro', label = 'output sequence for one batch')\n",
    "plt.legend(handles = [l1, l2], loc = 'lower left')\n",
    "plt.show()"
   ]
  },
  {
   "cell_type": "code",
   "execution_count": 24,
   "metadata": {},
   "outputs": [],
   "source": [
    "class preprocess_data():\n",
    "    \"\"\"\n",
    "        Preprocess the input and output data so the attention RNN can use it. \n",
    "        The attention RNN requires the input to be integers with a known range.\n",
    "        \n",
    "        The input and output are also broken up into small chunks. \n",
    "        Each input chunk has a corresponding output chunk that will be used to train on.\n",
    "    \"\"\"\n",
    "\n",
    "    def __init__(self, input_array, output_array, num_buckets=10000, chunk_size_in=10, chunk_size_out=10):\n",
    "        self.num_buckets = num_buckets\n",
    "        self.chunk_size_in = chunk_size_in\n",
    "        self.chunk_size_out = chunk_size_out\n",
    "        self.input_array = input_array\n",
    "        self.output_array = output_array\n",
    "        # Normalise the input and output data\n",
    "        self.normalized_in, self.scaler_in = self._normalise_data(input_array)\n",
    "        self.normalized_out, self.scaler_out = self._normalise_data(output_array)\n",
    "        # Discretise the data\n",
    "        self.discrete_in = self._discretise(self.normalized_in, self.num_buckets) \n",
    "        self.discrete_out = self._discretise(self.normalized_out, self.num_buckets) \n",
    "        # Divide the input and output up into chunks\n",
    "        self.input_chunks = self._chunkify(self.discrete_in, self.chunk_size_in)\n",
    "        self.output_chunks = self._chunkify(self.discrete_out, self.chunk_size_out)\n",
    "        \n",
    "    def _chunkify(self, input_data_array, chunk_size):\n",
    "        # Divide the input evenly by the chunk size. Delete the modulus of the division so the input is evenly divided by the chunks.\n",
    "        num_chunks = math.floor(len(input_data_array) / chunk_size)\n",
    "        remainder = len(input_data_array) % chunk_size\n",
    "        discrete_in = input_data_array[0:-remainder]\n",
    "        in_chunks = discrete_in.reshape(num_chunks, chunk_size)\n",
    "        #print(\"in_chunks shape = \", in_chunks.shape)\n",
    "        return in_chunks\n",
    "        \n",
    "    # normalise the data (range 0 to 1)\n",
    "    def _normalise_data(self, input_data_array, scaler=None):\n",
    "        series = Series(input_data_array)\n",
    "        #print(\"Orig input shape = %s data %s \\n\" %(input_data_array.shape, series.values))\n",
    "        # prepare data for normalization\n",
    "        values = series.values\n",
    "        values = values.reshape((len(values), 1))\n",
    "        # train the normalization\n",
    "        if scaler is None:\n",
    "            scaler = preprocessing.MinMaxScaler(feature_range=(0, 1))\n",
    "            scaler = scaler.fit(values)\n",
    "        #print('Min: %f, Max: %f' % (scaler.data_min_, scaler.data_max_))\n",
    "        # normalize the dataset and print\n",
    "        normalized = scaler.transform(values)\n",
    "\n",
    "        # inverse transform and print\n",
    "        inversed = scaler.inverse_transform(normalized)\n",
    "\n",
    "        normalized = normalized.reshape(len(values))\n",
    "        #print(\"Normalised data shape = %s  data = %s \\n\" % (normalized.shape, normalized))\n",
    "        #print(\"inversed normalised data (orig) \\n %s\" % inversed)\n",
    "\n",
    "        return normalized, scaler\n",
    "\n",
    "    # Apply the inverse of normalisation process to get the original data\n",
    "    def _un_normalise_data(self, normalised_input_array, scaler):\n",
    "        series = Series(normalised_input_array)\n",
    "        values = series.values\n",
    "        values = normalised_input_array.reshape((len(values), 1))\n",
    "        inversed = scaler.inverse_transform(values)\n",
    "        return inversed\n",
    "\n",
    "\n",
    "    def _discretise(self, in_array, nbuckets):\n",
    "        # Change the input from 0 to 1 range to a 0 to num_buckets range.\n",
    "        # Since the embedding layer needs an integer we convert the input using the \n",
    "        # number of buckets to be an integer in the range of 0 to num_buckets. \n",
    "        # Think of this as us discretizing the input. \n",
    "        #print(type(normalized_in))\n",
    "        discrete_in = ((nbuckets-1)*in_array).astype(int)\n",
    "        return discrete_in\n",
    "    \n",
    "    def _un_discretise(self, in_array, nbuckets):\n",
    "        in_array = np.array(in_array)\n",
    "        in_array = in_array.astype(float)\n",
    "        undiscrete = np.divide(in_array, (nbuckets-1))\n",
    "        return undiscrete\n",
    "        \n",
    "    def preprocess_input(self, indata_array):\n",
    "        # Normalise the input data\n",
    "        #import ipdb; ipdb.set_trace()\n",
    "        normalized_in, scaler_in = self._normalise_data(indata_array, scaler=self.scaler_in)\n",
    "        # Discretise the data\n",
    "        discrete_in = self._discretise(normalized_in, self.num_buckets) \n",
    "        return discrete_in\n",
    "    \n",
    "    def preprocess_output(self, outdata_array):\n",
    "        # Normalise the output data\n",
    "        #import ipdb; ipdb.set_trace()\n",
    "        normalized_out, scaler_out = self._normalise_data(outdata_array, scaler=self.scaler_out)\n",
    "        # Discretise the data\n",
    "        discrete_out = self._discretise(normalized_out, self.num_buckets) \n",
    "        return discrete_out\n",
    "        \n",
    "    def un_preprocess_input(self, indata_array):\n",
    "        # Un process the input data. ie. apply the inverse operations that the processing \n",
    "        # class has applied to the input data\n",
    "        un_in = self._un_discretise(indata_array, self.num_buckets)\n",
    "        un_in = self._un_normalise_data(un_in, self.scaler_in)\n",
    "        return un_in\n",
    "            \n",
    "    def un_preprocess_output(self, outdata_array):\n",
    "        # Un process the output data. ie. apply the inverse operations that the processing \n",
    "        # class has applied to the output data\n",
    "        un_in = self._un_discretise(outdata_array, self.num_buckets)\n",
    "        un_in = self._un_normalise_data(un_in, self.scaler_out)\n",
    "        return un_in"
   ]
  },
  {
   "cell_type": "code",
   "execution_count": 25,
   "metadata": {},
   "outputs": [
    {
     "name": "stdout",
     "output_type": "stream",
     "text": [
      "input_array shape =  (19620,)\n",
      "output_array shape =  (19620,)\n",
      "input_chunks shape =  (1783, 11)\n",
      "output_chunks shape =  (1783, 11)\n",
      "input_chunks[1] =  [3351 3372 3393 3419 3444 3465 3491 3516 3546 3571 3601]\n",
      "output_chunks[1] =  [8292 8338 8389 8435 8477 8519 8565 8602 8648 8685 8717]\n"
     ]
    }
   ],
   "source": [
    "# Discretise the input/output into buckets and turn them into smaller chunks to learn on.\n",
    "num_buckets=10000  # This means the largest value of the preprocessed data is num_buckets-1. \n",
    "chunk_size_in = 11 # This corresponds to chunk_size * in_period seconds of input data\n",
    "chunk_size_out = 11 # This corresponds to chunk_size * in_period seconds of output data\n",
    "input_array = input_seq.flatten()\n",
    "output_array = output_seq.flatten()\n",
    "print(\"input_array shape = \", input_array.shape)\n",
    "print(\"output_array shape = \", output_array.shape)\n",
    "\n",
    "prep_data = preprocess_data(input_array, output_array, num_buckets, chunk_size_in, chunk_size_out)\n",
    "discrete_in = prep_data.discrete_in\n",
    "discrete_out = prep_data.discrete_out\n",
    "# Break the input sin wave up into chunks.\n",
    "# The RNN with attention will attempt to predict the next chunk from the input chunk.\n",
    "input_chunks = prep_data.input_chunks\n",
    "output_chunks = prep_data.output_chunks\n",
    "\n",
    "print(\"input_chunks shape = \", input_chunks.shape)\n",
    "print(\"output_chunks shape = \", output_chunks.shape)\n",
    "\n",
    "print(\"input_chunks[1] = \", input_chunks[1])\n",
    "print(\"output_chunks[1] = \", output_chunks[1])"
   ]
  },
  {
   "cell_type": "code",
   "execution_count": null,
   "metadata": {},
   "outputs": [],
   "source": []
  },
  {
   "cell_type": "code",
   "execution_count": null,
   "metadata": {
    "colab": {
     "base_uri": "https://localhost:8080/",
     "height": 52
    },
    "colab_type": "code",
    "id": "mfOOK5f7Wm6c",
    "outputId": "24993723-9696-4d25-b4ff-bc05cfb8edb0"
   },
   "outputs": [],
   "source": []
  },
  {
   "cell_type": "code",
   "execution_count": 26,
   "metadata": {
    "colab": {},
    "colab_type": "code",
    "id": "s6XX2udMTCQt"
   },
   "outputs": [],
   "source": [
    "# Build tokenizer using tfds for both questions and answers\n",
    "# tokenizer = tfds.features.text.SubwordTextEncoder.build_from_corpus(\n",
    "#     input_chunks + output_chunks, target_vocab_size=num_buckets)\n",
    "\n",
    "# Define start and end token to indicate the start and end of a sentence\n",
    "START_TOKEN, END_TOKEN = [num_buckets], [num_buckets + 1]\n",
    "\n",
    "# Vocabulary size plus start and end token\n",
    "VOCAB_SIZE = num_buckets + 2"
   ]
  },
  {
   "cell_type": "code",
   "execution_count": 27,
   "metadata": {
    "colab": {
     "base_uri": "https://localhost:8080/",
     "height": 35
    },
    "colab_type": "code",
    "id": "h5h8pvRUTFt5",
    "outputId": "a54ba714-e198-4d11-d604-8ca1685f02f8"
   },
   "outputs": [
    {
     "name": "stdout",
     "output_type": "stream",
     "text": [
      "VOCAB_SIZE:  10002\n",
      "START_TOKEN, END_TOKEN:  [10000] [10001]\n"
     ]
    }
   ],
   "source": [
    "print('VOCAB_SIZE: ', VOCAB_SIZE)\n",
    "print('START_TOKEN, END_TOKEN: ', START_TOKEN, END_TOKEN)\n"
   ]
  },
  {
   "cell_type": "code",
   "execution_count": 28,
   "metadata": {
    "colab": {},
    "colab_type": "code",
    "id": "YESTPgeg_XgT"
   },
   "outputs": [],
   "source": [
    "# Maximum sentence length\n",
    "MAX_LENGTH = 40\n",
    "\n",
    "# Tokenize, filter and pad sentences\n",
    "def tokenize_and_filter(inputs, outputs):\n",
    "    tokenized_inputs, tokenized_outputs = [], []\n",
    "  \n",
    "    for (sentence1, sentence2) in zip(inputs, outputs):\n",
    "        # tokenize sentence\n",
    "        #import ipdb; ipdb.set_trace()\n",
    "        sentence1 = np.concatenate((START_TOKEN, sentence1, END_TOKEN))\n",
    "        sentence2 = np.concatenate((START_TOKEN, sentence2, END_TOKEN))\n",
    "        # check tokenized sentence max length\n",
    "        if len(sentence1) <= MAX_LENGTH and len(sentence2) <= MAX_LENGTH:\n",
    "            tokenized_inputs.append(sentence1)\n",
    "            tokenized_outputs.append(sentence2)\n",
    "\n",
    "    # pad tokenized sentences\n",
    "    tokenized_inputs = tf.keras.preprocessing.sequence.pad_sequences(\n",
    "      tokenized_inputs, maxlen=MAX_LENGTH, padding='post')\n",
    "    tokenized_outputs = tf.keras.preprocessing.sequence.pad_sequences(\n",
    "      tokenized_outputs, maxlen=MAX_LENGTH, padding='post')\n",
    "\n",
    "    return tokenized_inputs, tokenized_outputs\n",
    "\n",
    "\n",
    "input_chunks_pad, output_chunks_pad = tokenize_and_filter(input_chunks, output_chunks)"
   ]
  },
  {
   "cell_type": "code",
   "execution_count": 29,
   "metadata": {
    "colab": {
     "base_uri": "https://localhost:8080/",
     "height": 52
    },
    "colab_type": "code",
    "id": "pohHm8IRWlIH",
    "outputId": "10448ea8-2d4b-439b-ed9d-2a13ed7bf721"
   },
   "outputs": [
    {
     "name": "stdout",
     "output_type": "stream",
     "text": [
      "Vocab size: 10002\n",
      "Number of samples: 1783\n",
      "Sample input_chunks: [4021 4021 4025 4025 4025 4025 4025 4030 4025 4025 4025]\n",
      "Sample output_chunks: [5054 5054 5050 5054 5054 5054 5054 5050 5050 5045 5045]\n",
      "Sample input_chunks_pad: [10000  4021  4021  4025  4025  4025  4025  4025  4030  4025  4025  4025\n",
      " 10001     0     0     0     0     0     0     0     0     0     0     0\n",
      "     0     0     0     0     0     0     0     0     0     0     0     0\n",
      "     0     0     0     0]\n",
      "Sample output_chunks_pad: [10000  5054  5054  5050  5054  5054  5054  5054  5050  5050  5045  5045\n",
      " 10001     0     0     0     0     0     0     0     0     0     0     0\n",
      "     0     0     0     0     0     0     0     0     0     0     0     0\n",
      "     0     0     0     0]\n"
     ]
    }
   ],
   "source": [
    "print('Vocab size: {}'.format(VOCAB_SIZE))\n",
    "print('Number of samples: {}'.format(len(input_chunks_pad)))\n",
    "\n",
    "# Some inputs and outputs may have been revoed after the filtering.\n",
    "print('Sample input_chunks: {}'.format(input_chunks[19]))\n",
    "print('Sample output_chunks: {}'.format(output_chunks[19]))\n",
    "print('Sample input_chunks_pad: {}'.format(input_chunks_pad[19]))\n",
    "print('Sample output_chunks_pad: {}'.format(output_chunks_pad[19]))"
   ]
  },
  {
   "cell_type": "markdown",
   "metadata": {
    "colab_type": "text",
    "id": "S50jT4upWh5c"
   },
   "source": [
    "### Create `tf.data.Dataset`\n",
    "\n",
    "We are going to use the [tf.data.Dataset API](https://www.tensorflow.org/api_docs/python/tf/data) to contruct our input pipline in order to utilize features like caching and prefetching to speed up the training process.\n",
    "\n",
    "The transformer is an auto-regressive model: it makes predictions one part at a time, and uses its output so far to decide what to do next.\n",
    "\n",
    "During training this example uses teacher-forcing. Teacher forcing is passing the true output to the next time step regardless of what the model predicts at the current time step.\n",
    "\n",
    "As the transformer predicts each word, self-attention allows it to look at the previous words in the input sequence to better predict the next word.\n",
    "\n",
    "To prevent the model from peaking at the expected output the model uses a look-ahead mask.\n",
    "\n",
    "Target is divided into `decoder_inputs` which padded as an input to the decoder and `cropped_targets` for calculating our loss and accuracy."
   ]
  },
  {
   "cell_type": "code",
   "execution_count": 30,
   "metadata": {
    "colab": {
     "base_uri": "https://localhost:8080/",
     "height": 141
    },
    "colab_type": "code",
    "id": "pttC3XxgAXWQ",
    "outputId": "225aeed3-0b29-4e49-c0bb-e416b104de7b"
   },
   "outputs": [],
   "source": [
    "BATCH_SIZE = 64\n",
    "BUFFER_SIZE = 20000\n",
    "\n",
    "# decoder inputs use the previous target as input\n",
    "# remove START_TOKEN from targets\n",
    "dataset = tf.data.Dataset.from_tensor_slices((\n",
    "    {\n",
    "        'inputs': input_chunks_pad,\n",
    "        'dec_inputs': output_chunks_pad[:, :-1]\n",
    "    },\n",
    "    {\n",
    "        'outputs': output_chunks_pad[:, 1:]\n",
    "    },\n",
    "))\n",
    "\n",
    "dataset = dataset.cache()\n",
    "dataset = dataset.shuffle(BUFFER_SIZE)\n",
    "dataset = dataset.batch(BATCH_SIZE)\n",
    "dataset = dataset.prefetch(tf.data.experimental.AUTOTUNE)"
   ]
  },
  {
   "cell_type": "code",
   "execution_count": 31,
   "metadata": {
    "colab": {
     "base_uri": "https://localhost:8080/",
     "height": 55
    },
    "colab_type": "code",
    "id": "mU8yNWpwPlS7",
    "outputId": "de2c0206-984a-4770-8c23-399e44acbfe9"
   },
   "outputs": [
    {
     "name": "stdout",
     "output_type": "stream",
     "text": [
      "<PrefetchDataset shapes: ({inputs: (None, 40), dec_inputs: (None, 39)}, {outputs: (None, 39)}), types: ({inputs: tf.int32, dec_inputs: tf.int32}, {outputs: tf.int32})>\n"
     ]
    }
   ],
   "source": [
    "print(dataset)"
   ]
  },
  {
   "cell_type": "code",
   "execution_count": 32,
   "metadata": {
    "colab": {
     "base_uri": "https://localhost:8080/",
     "height": 55
    },
    "colab_type": "code",
    "id": "mU8yNWpwPlS7",
    "outputId": "de2c0206-984a-4770-8c23-399e44acbfe9"
   },
   "outputs": [
    {
     "name": "stdout",
     "output_type": "stream",
     "text": [
      "[[10000  3173  3185 ...     0     0     0]\n",
      " [10000  3351  3372 ...     0     0     0]\n",
      " [10000  3627  3656 ...     0     0     0]\n",
      " ...\n",
      " [10000  4089  4089 ...     0     0     0]\n",
      " [10000  4085  4081 ...     0     0     0]\n",
      " [10000  4072  4076 ...     0     0     0]]\n",
      "[[10000  7728  7783 ...     0     0     0]\n",
      " [10000  8292  8338 ...     0     0     0]\n",
      " [10000  8759  8791 ...     0     0     0]\n",
      " ...\n",
      " [10000  4819  4819 ...     0     0     0]\n",
      " [10000  4814  4805 ...     0     0     0]\n",
      " [10000  4717  4698 ...     0     0     0]]\n",
      "[[7728 7783 7834 ...    0    0    0]\n",
      " [8292 8338 8389 ...    0    0    0]\n",
      " [8759 8791 8824 ...    0    0    0]\n",
      " ...\n",
      " [4819 4819 4823 ...    0    0    0]\n",
      " [4814 4805 4800 ...    0    0    0]\n",
      " [4717 4698 4689 ...    0    0    0]]\n"
     ]
    }
   ],
   "source": [
    "print(input_chunks_pad[:, :-1])\n",
    "print(output_chunks_pad[:, :-1])\n",
    "print(output_chunks_pad[:, 1:])"
   ]
  },
  {
   "cell_type": "markdown",
   "metadata": {
    "colab_type": "text",
    "id": "s9eeMPjGXmI1"
   },
   "source": [
    "## Attention\n",
    "\n"
   ]
  },
  {
   "cell_type": "markdown",
   "metadata": {
    "colab_type": "text",
    "id": "uctkwvPZVSzu"
   },
   "source": [
    "### Scaled dot product Attention\n",
    "\n",
    "The scaled dot-product attention function used by the transformer takes three inputs: Q (query), K (key), V (value). The equation used to calculate the attention weights is:\n",
    "\n",
    "$$\\Large{Attention(Q, K, V) = softmax_k(\\frac{QK^T}{\\sqrt{d_k}}) V} $$\n",
    "\n",
    "As the softmax normalization is done on the `key`, its values decide the amount of importance given to the `query`.\n",
    "\n",
    "The output represents the multiplication of the attention weights and the `value` vector. This ensures that the words we want to focus on are kept as is and the irrelevant words are flushed out.\n",
    "\n",
    "The dot-product attention is scaled by a factor of square root of the depth. This is done because for large values of depth, the dot product grows large in magnitude pushing the softmax function where it has small gradients resulting in a very hard softmax. \n",
    "\n",
    "For example, consider that `query` and `key` have a mean of 0 and variance of 1. Their matrix multiplication will have a mean of 0 and variance of `dk`. Hence, *square root of `dk`* is used for scaling (and not any other number) because the matmul of `query` and `key` should have a mean of 0 and variance of 1, so that we get a gentler softmax.\n",
    "\n",
    "The mask is multiplied with *-1e9 (close to negative infinity).* This is done because the mask is summed with the scaled matrix multiplication of `query` and `key` and is applied immediately before a softmax. The goal is to zero out these cells, and large negative inputs to softmax are near zero in the output."
   ]
  },
  {
   "cell_type": "code",
   "execution_count": 33,
   "metadata": {
    "colab": {},
    "colab_type": "code",
    "id": "ENfqAFna_50H"
   },
   "outputs": [],
   "source": [
    "def scaled_dot_product_attention(query, key, value, mask):\n",
    "  \"\"\"Calculate the attention weights. \"\"\"\n",
    "  matmul_qk = tf.matmul(query, key, transpose_b=True)\n",
    "\n",
    "  # scale matmul_qk\n",
    "  depth = tf.cast(tf.shape(key)[-1], tf.float32)\n",
    "  logits = matmul_qk / tf.math.sqrt(depth)\n",
    "\n",
    "  # add the mask to zero out padding tokens\n",
    "  if mask is not None:\n",
    "    logits += (mask * -1e9)\n",
    "\n",
    "  # softmax is normalized on the last axis (seq_len_k)\n",
    "  attention_weights = tf.nn.softmax(logits, axis=-1)\n",
    "\n",
    "  output = tf.matmul(attention_weights, value)\n",
    "\n",
    "  return output"
   ]
  },
  {
   "cell_type": "markdown",
   "metadata": {
    "colab_type": "text",
    "id": "XwmOB9HvVbyh"
   },
   "source": [
    "### Multi-head attention\n",
    "\n",
    "<img src=\"https://www.tensorflow.org/images/tutorials/transformer/multi_head_attention.png\" width=\"500\" alt=\"multi-head attention\">\n",
    "\n",
    "\n",
    "Multi-head attention consists of four parts:\n",
    "* Linear layers and split into heads.\n",
    "* Scaled dot-product attention.\n",
    "* Concatenation of heads.\n",
    "* Final linear layer.\n",
    "\n",
    "Each multi-head attention block gets three inputs; Q (query), K (key), V (value). These are put through linear (Dense) layers and split up into multiple heads. \n",
    "\n",
    "The `scaled_dot_product_attention` defined above is applied to each head (broadcasted for efficiency). An appropriate mask must be used in the attention step.  The attention output for each head is then concatenated (using `tf.transpose`, and `tf.reshape`) and put through a final `Dense` layer.\n",
    "\n",
    "Instead of one single attention head, `query`, `key`, and `value` are split into multiple heads because it allows the model to jointly attend to information at different positions from different representational spaces. After the split each head has a reduced dimensionality, so the total computation cost is the same as a single head attention with full dimensionality."
   ]
  },
  {
   "cell_type": "code",
   "execution_count": 34,
   "metadata": {
    "colab": {},
    "colab_type": "code",
    "id": "L9eYssGIAG4h"
   },
   "outputs": [],
   "source": [
    "class MultiHeadAttention(tf.keras.layers.Layer):\n",
    "\n",
    "  def __init__(self, d_model, num_heads, name=\"multi_head_attention\"):\n",
    "    super(MultiHeadAttention, self).__init__(name=name)\n",
    "    self.num_heads = num_heads\n",
    "    self.d_model = d_model\n",
    "\n",
    "    assert d_model % self.num_heads == 0\n",
    "\n",
    "    self.depth = d_model // self.num_heads\n",
    "\n",
    "    self.query_dense = tf.keras.layers.Dense(units=d_model)\n",
    "    self.key_dense = tf.keras.layers.Dense(units=d_model)\n",
    "    self.value_dense = tf.keras.layers.Dense(units=d_model)\n",
    "\n",
    "    self.dense = tf.keras.layers.Dense(units=d_model)\n",
    "\n",
    "  def split_heads(self, inputs, batch_size):\n",
    "    inputs = tf.reshape(\n",
    "        inputs, shape=(batch_size, -1, self.num_heads, self.depth))\n",
    "    return tf.transpose(inputs, perm=[0, 2, 1, 3])\n",
    "\n",
    "  def call(self, inputs):\n",
    "    query, key, value, mask = inputs['query'], inputs['key'], inputs[\n",
    "        'value'], inputs['mask']\n",
    "    batch_size = tf.shape(query)[0]\n",
    "\n",
    "    # linear layers\n",
    "    query = self.query_dense(query)\n",
    "    key = self.key_dense(key)\n",
    "    value = self.value_dense(value)\n",
    "\n",
    "    # split heads\n",
    "    query = self.split_heads(query, batch_size)\n",
    "    key = self.split_heads(key, batch_size)\n",
    "    value = self.split_heads(value, batch_size)\n",
    "\n",
    "    # scaled dot-product attention\n",
    "    scaled_attention = scaled_dot_product_attention(query, key, value, mask)\n",
    "\n",
    "    scaled_attention = tf.transpose(scaled_attention, perm=[0, 2, 1, 3])\n",
    "\n",
    "    # concatenation of heads\n",
    "    concat_attention = tf.reshape(scaled_attention,\n",
    "                                  (batch_size, -1, self.d_model))\n",
    "\n",
    "    # final linear layer\n",
    "    outputs = self.dense(concat_attention)\n",
    "\n",
    "    return outputs"
   ]
  },
  {
   "cell_type": "markdown",
   "metadata": {
    "colab_type": "text",
    "id": "eDUX7Oa8Xudj"
   },
   "source": [
    "## Transformer"
   ]
  },
  {
   "cell_type": "markdown",
   "metadata": {
    "colab_type": "text",
    "id": "x5QlgXsxYirg"
   },
   "source": [
    "### Masking\n",
    "\n"
   ]
  },
  {
   "cell_type": "markdown",
   "metadata": {
    "colab_type": "text",
    "id": "0CX5H8A-Wybj"
   },
   "source": [
    "`create_padding_mask` and `create_look_ahead` are helper functions to creating masks to mask out padded tokens, we are going to use these helper functions as `tf.keras.layers.Lambda` layers.\n",
    "\n",
    "Mask all the pad tokens (value `0`) in the batch to ensure the model does not treat padding as input."
   ]
  },
  {
   "cell_type": "code",
   "execution_count": 35,
   "metadata": {
    "colab": {},
    "colab_type": "code",
    "id": "imCQ0jrvWhC7"
   },
   "outputs": [],
   "source": [
    "def create_padding_mask(x):\n",
    "  mask = tf.cast(tf.math.equal(x, 0), tf.float32)\n",
    "  # (batch_size, 1, 1, sequence length)\n",
    "  return mask[:, tf.newaxis, tf.newaxis, :]"
   ]
  },
  {
   "cell_type": "code",
   "execution_count": 36,
   "metadata": {
    "colab": {
     "base_uri": "https://localhost:8080/",
     "height": 104
    },
    "colab_type": "code",
    "id": "IrwtsqrfWd-3",
    "outputId": "b7ca580c-ab44-4558-b1b0-d567bc27e660"
   },
   "outputs": [
    {
     "name": "stdout",
     "output_type": "stream",
     "text": [
      "tf.Tensor(\n",
      "[[[[0. 0. 1. 0. 1.]]]\n",
      "\n",
      "\n",
      " [[[1. 1. 1. 0. 0.]]]], shape=(2, 1, 1, 5), dtype=float32)\n"
     ]
    }
   ],
   "source": [
    "print(create_padding_mask(tf.constant([[1, 2, 0, 3, 0], [0, 0, 0, 4, 5]])))"
   ]
  },
  {
   "cell_type": "markdown",
   "metadata": {
    "colab_type": "text",
    "id": "qJAicy1zW1QT"
   },
   "source": [
    "Look-ahead mask to mask the future tokens in a sequence.\n",
    "We also mask out pad tokens.\n",
    "\n",
    "i.e. To predict the third word, only the first and second word will be used"
   ]
  },
  {
   "cell_type": "code",
   "execution_count": 37,
   "metadata": {
    "colab": {},
    "colab_type": "code",
    "id": "HSVdD2zKWaXx"
   },
   "outputs": [],
   "source": [
    "def create_look_ahead_mask(x):\n",
    "  seq_len = tf.shape(x)[1]\n",
    "  look_ahead_mask = 1 - tf.linalg.band_part(tf.ones((seq_len, seq_len)), -1, 0)\n",
    "  padding_mask = create_padding_mask(x)\n",
    "  return tf.maximum(look_ahead_mask, padding_mask)"
   ]
  },
  {
   "cell_type": "code",
   "execution_count": 38,
   "metadata": {
    "colab": {
     "base_uri": "https://localhost:8080/",
     "height": 121
    },
    "colab_type": "code",
    "id": "xhwz9xzxWcod",
    "outputId": "23729998-d7e2-4780-a1e4-ee7cf361af90"
   },
   "outputs": [
    {
     "name": "stdout",
     "output_type": "stream",
     "text": [
      "tf.Tensor(\n",
      "[[[[0. 1. 1. 1. 1.]\n",
      "   [0. 0. 1. 1. 1.]\n",
      "   [0. 0. 1. 1. 1.]\n",
      "   [0. 0. 1. 0. 1.]\n",
      "   [0. 0. 1. 0. 0.]]]], shape=(1, 1, 5, 5), dtype=float32)\n"
     ]
    }
   ],
   "source": [
    "print(create_look_ahead_mask(tf.constant([[1, 2, 0, 4, 5]])))"
   ]
  },
  {
   "cell_type": "markdown",
   "metadata": {
    "colab_type": "text",
    "id": "TpR7kz4jFkPJ"
   },
   "source": [
    "### Positional encoding\n",
    "\n",
    "Since this model doesn't contain any recurrence or convolution, positional encoding is added to give the model some information about the relative position of the words in the sentence. \n",
    "\n",
    "The positional encoding vector is added to the embedding vector. Embeddings represent a token in a d-dimensional space where tokens with similar meaning will be closer to each other. But the embeddings do not encode the relative position of words in a sentence. So after adding the positional encoding, words will be closer to each other based on the *similarity of their meaning and their position in the sentence*, in the d-dimensional space.\n",
    "\n",
    "See the notebook on [positional encoding](https://github.com/tensorflow/examples/blob/master/community/en/position_encoding.ipynb) to learn more about it. The formula for calculating the positional encoding is as follows:\n",
    "\n",
    "$$\\Large{PE_{(pos, 2i)} = sin(pos / 10000^{2i / d_{model}})} $$\n",
    "$$\\Large{PE_{(pos, 2i+1)} = cos(pos / 10000^{2i / d_{model}})} $$"
   ]
  },
  {
   "cell_type": "code",
   "execution_count": 39,
   "metadata": {
    "colab": {},
    "colab_type": "code",
    "id": "-9Oibz2es-qW"
   },
   "outputs": [],
   "source": [
    "class PositionalEncoding(tf.keras.layers.Layer):\n",
    "\n",
    "  def __init__(self, position, d_model):\n",
    "    super(PositionalEncoding, self).__init__()\n",
    "    self.pos_encoding = self.positional_encoding(position, d_model)\n",
    "\n",
    "  def get_angles(self, position, i, d_model):\n",
    "    angles = 1 / tf.pow(10000, (2 * (i // 2)) / tf.cast(d_model, tf.float32))\n",
    "    return position * angles\n",
    "\n",
    "  def positional_encoding(self, position, d_model):\n",
    "    angle_rads = self.get_angles(\n",
    "        position=tf.range(position, dtype=tf.float32)[:, tf.newaxis],\n",
    "        i=tf.range(d_model, dtype=tf.float32)[tf.newaxis, :],\n",
    "        d_model=d_model)\n",
    "    # apply sin to even index in the array\n",
    "    sines = tf.math.sin(angle_rads[:, 0::2])\n",
    "    # apply cos to odd index in the array\n",
    "    cosines = tf.math.cos(angle_rads[:, 1::2])\n",
    "\n",
    "    pos_encoding = tf.concat([sines, cosines], axis=-1)\n",
    "    pos_encoding = pos_encoding[tf.newaxis, ...]\n",
    "    return tf.cast(pos_encoding, tf.float32)\n",
    "\n",
    "  def call(self, inputs):\n",
    "    return inputs + self.pos_encoding[:, :tf.shape(inputs)[1], :]"
   ]
  },
  {
   "cell_type": "code",
   "execution_count": 40,
   "metadata": {
    "colab": {
     "base_uri": "https://localhost:8080/",
     "height": 283
    },
    "colab_type": "code",
    "id": "UC_fQehi3_Yh",
    "outputId": "b8af00e4-c47d-444d-fd44-5a8cb0f94d7f"
   },
   "outputs": [
    {
     "data": {
      "image/png": "[encoded data removed]",
      "text/plain": [
       "<Figure size 432x288 with 2 Axes>"
      ]
     },
     "metadata": {
      "needs_background": "light"
     },
     "output_type": "display_data"
    }
   ],
   "source": [
    "sample_pos_encoding = PositionalEncoding(50, 512)\n",
    "\n",
    "plt.pcolormesh(sample_pos_encoding.pos_encoding.numpy()[0], cmap='RdBu')\n",
    "plt.xlabel('Depth')\n",
    "plt.xlim((0, 512))\n",
    "plt.ylabel('Position')\n",
    "plt.colorbar()\n",
    "plt.show()"
   ]
  },
  {
   "cell_type": "markdown",
   "metadata": {
    "colab_type": "text",
    "id": "HVazCemoW2Ye"
   },
   "source": [
    "### Encoder Layer\n",
    "\n",
    "Each encoder layer consists of sublayers:\n",
    "\n",
    "1. Multi-head attention (with padding mask) \n",
    "2. 2 dense layers followed by dropout\n",
    "\n",
    "Each of these sublayers has a residual connection around it followed by a layer normalization. Residual connections help in avoiding the vanishing gradient problem in deep networks.\n",
    "\n",
    "The output of each sublayer is `LayerNorm(x + Sublayer(x))`. The normalization is done on the `d_model` (last) axis."
   ]
  },
  {
   "cell_type": "code",
   "execution_count": 41,
   "metadata": {
    "colab": {},
    "colab_type": "code",
    "id": "5guJOLJmfcuX"
   },
   "outputs": [],
   "source": [
    "def encoder_layer(units, d_model, num_heads, dropout, name=\"encoder_layer\"):\n",
    "  inputs = tf.keras.Input(shape=(None, d_model), name=\"inputs\")\n",
    "  padding_mask = tf.keras.Input(shape=(1, 1, None), name=\"padding_mask\")\n",
    "\n",
    "  attention = MultiHeadAttention(\n",
    "      d_model, num_heads, name=\"attention\")({\n",
    "          'query': inputs,\n",
    "          'key': inputs,\n",
    "          'value': inputs,\n",
    "          'mask': padding_mask\n",
    "      })\n",
    "  attention = tf.keras.layers.Dropout(rate=dropout)(attention)\n",
    "  attention = tf.keras.layers.LayerNormalization(\n",
    "      epsilon=1e-6)(inputs + attention)\n",
    "\n",
    "  outputs = tf.keras.layers.Dense(units=units, activation='relu')(attention)\n",
    "  outputs = tf.keras.layers.Dense(units=d_model)(outputs)\n",
    "  outputs = tf.keras.layers.Dropout(rate=dropout)(outputs)\n",
    "  outputs = tf.keras.layers.LayerNormalization(\n",
    "      epsilon=1e-6)(attention + outputs)\n",
    "\n",
    "  return tf.keras.Model(\n",
    "      inputs=[inputs, padding_mask], outputs=outputs, name=name)"
   ]
  },
  {
   "cell_type": "code",
   "execution_count": 42,
   "metadata": {
    "colab": {
     "base_uri": "https://localhost:8080/",
     "height": 1000
    },
    "colab_type": "code",
    "id": "K16BIGSKfkve",
    "outputId": "1bc30cb1-5c52-4c53-dec0-3dd5f0d525c5"
   },
   "outputs": [
    {
     "name": "stdout",
     "output_type": "stream",
     "text": [
      "Failed to import pydot. You must install pydot and graphviz for `pydotprint` to work.\n"
     ]
    }
   ],
   "source": [
    "sample_encoder_layer = encoder_layer(\n",
    "    units=512,\n",
    "    d_model=128,\n",
    "    num_heads=4,\n",
    "    dropout=0.3,\n",
    "    name=\"sample_encoder_layer\")\n",
    "\n",
    "tf.keras.utils.plot_model(\n",
    "    sample_encoder_layer, to_file='encoder_layer.png', show_shapes=True)"
   ]
  },
  {
   "cell_type": "markdown",
   "metadata": {
    "colab_type": "text",
    "id": "9r8lWGClfi_1"
   },
   "source": [
    "### Encoder\n",
    "\n",
    "The Encoder consists of:\n",
    "1.   Input Embedding\n",
    "2.   Positional Encoding\n",
    "3.   `num_layers` encoder layers\n",
    "\n",
    "The input is put through an embedding which is summed with the positional encoding. The output of this summation is the input to the encoder layers. The output of the encoder is the input to the decoder."
   ]
  },
  {
   "cell_type": "code",
   "execution_count": 43,
   "metadata": {
    "colab": {},
    "colab_type": "code",
    "id": "LRfugon5Wy-Y"
   },
   "outputs": [],
   "source": [
    "def encoder(vocab_size,\n",
    "            num_layers,\n",
    "            units,\n",
    "            d_model,\n",
    "            num_heads,\n",
    "            dropout,\n",
    "            name=\"encoder\"):\n",
    "  inputs = tf.keras.Input(shape=(None,), name=\"inputs\")\n",
    "  padding_mask = tf.keras.Input(shape=(1, 1, None), name=\"padding_mask\")\n",
    "\n",
    "  embeddings = tf.keras.layers.Embedding(vocab_size, d_model)(inputs)\n",
    "  embeddings *= tf.math.sqrt(tf.cast(d_model, tf.float32))\n",
    "  embeddings = PositionalEncoding(vocab_size, d_model)(embeddings)\n",
    "\n",
    "  outputs = tf.keras.layers.Dropout(rate=dropout)(embeddings)\n",
    "\n",
    "  for i in range(num_layers):\n",
    "    outputs = encoder_layer(\n",
    "        units=units,\n",
    "        d_model=d_model,\n",
    "        num_heads=num_heads,\n",
    "        dropout=dropout,\n",
    "        name=\"encoder_layer_{}\".format(i),\n",
    "    )([outputs, padding_mask])\n",
    "\n",
    "  return tf.keras.Model(\n",
    "      inputs=[inputs, padding_mask], outputs=outputs, name=name)"
   ]
  },
  {
   "cell_type": "code",
   "execution_count": 44,
   "metadata": {
    "colab": {
     "base_uri": "https://localhost:8080/",
     "height": 754
    },
    "colab_type": "code",
    "id": "bNxCnjrvglnx",
    "outputId": "6fe35d8a-2ed9-4e25-e5d6-5342b293a066"
   },
   "outputs": [
    {
     "name": "stdout",
     "output_type": "stream",
     "text": [
      "Failed to import pydot. You must install pydot and graphviz for `pydotprint` to work.\n"
     ]
    }
   ],
   "source": [
    "sample_encoder = encoder(\n",
    "    vocab_size=8192,\n",
    "    num_layers=2,\n",
    "    units=512,\n",
    "    d_model=128,\n",
    "    num_heads=4,\n",
    "    dropout=0.3,\n",
    "    name=\"sample_encoder\")\n",
    "\n",
    "tf.keras.utils.plot_model(\n",
    "   sample_encoder, to_file='encoder.png', show_shapes=True)"
   ]
  },
  {
   "cell_type": "markdown",
   "metadata": {
    "colab_type": "text",
    "id": "af66azvgW9P-"
   },
   "source": [
    "### Decoder Layer\n",
    "\n",
    "Each decoder layer consists of sublayers:\n",
    "\n",
    "1.   Masked multi-head attention (with look ahead mask and padding mask)\n",
    "2.   Multi-head attention (with padding mask). `value` and `key` receive the *encoder output* as inputs. `query` receives the *output from the masked multi-head attention sublayer.*\n",
    "3.   2 dense layers followed by dropout\n",
    "\n",
    "Each of these sublayers has a residual connection around it followed by a layer normalization. The output of each sublayer is `LayerNorm(x + Sublayer(x))`. The normalization is done on the `d_model` (last) axis.\n",
    "\n",
    "As `query` receives the output from decoder's first attention block, and `key` receives the encoder output, the attention weights represent the importance given to the decoder's input based on the encoder's output. In other words, the decoder predicts the next word by looking at the encoder output and self-attending to its own output. See the demonstration above in the scaled dot product attention section."
   ]
  },
  {
   "cell_type": "code",
   "execution_count": 45,
   "metadata": {
    "colab": {},
    "colab_type": "code",
    "id": "6mLvvNMWgDnf"
   },
   "outputs": [],
   "source": [
    "def decoder_layer(units, d_model, num_heads, dropout, name=\"decoder_layer\"):\n",
    "  inputs = tf.keras.Input(shape=(None, d_model), name=\"inputs\")\n",
    "  enc_outputs = tf.keras.Input(shape=(None, d_model), name=\"encoder_outputs\")\n",
    "  look_ahead_mask = tf.keras.Input(\n",
    "      shape=(1, None, None), name=\"look_ahead_mask\")\n",
    "  padding_mask = tf.keras.Input(shape=(1, 1, None), name='padding_mask')\n",
    "\n",
    "  attention1 = MultiHeadAttention(\n",
    "      d_model, num_heads, name=\"attention_1\")(inputs={\n",
    "          'query': inputs,\n",
    "          'key': inputs,\n",
    "          'value': inputs,\n",
    "          'mask': look_ahead_mask\n",
    "      })\n",
    "  attention1 = tf.keras.layers.LayerNormalization(\n",
    "      epsilon=1e-6)(attention1 + inputs)\n",
    "\n",
    "  attention2 = MultiHeadAttention(\n",
    "      d_model, num_heads, name=\"attention_2\")(inputs={\n",
    "          'query': attention1,\n",
    "          'key': enc_outputs,\n",
    "          'value': enc_outputs,\n",
    "          'mask': padding_mask\n",
    "      })\n",
    "  attention2 = tf.keras.layers.Dropout(rate=dropout)(attention2)\n",
    "  attention2 = tf.keras.layers.LayerNormalization(\n",
    "      epsilon=1e-6)(attention2 + attention1)\n",
    "\n",
    "  outputs = tf.keras.layers.Dense(units=units, activation='relu')(attention2)\n",
    "  outputs = tf.keras.layers.Dense(units=d_model)(outputs)\n",
    "  outputs = tf.keras.layers.Dropout(rate=dropout)(outputs)\n",
    "  outputs = tf.keras.layers.LayerNormalization(\n",
    "      epsilon=1e-6)(outputs + attention2)\n",
    "\n",
    "  return tf.keras.Model(\n",
    "      inputs=[inputs, enc_outputs, look_ahead_mask, padding_mask],\n",
    "      outputs=outputs,\n",
    "      name=name)"
   ]
  },
  {
   "cell_type": "code",
   "execution_count": 46,
   "metadata": {
    "colab": {
     "base_uri": "https://localhost:8080/",
     "height": 1000
    },
    "colab_type": "code",
    "id": "8M1NrQ_NgEaM",
    "outputId": "30dfd728-8c6d-4021-e5ac-54675cb4d55c"
   },
   "outputs": [
    {
     "name": "stdout",
     "output_type": "stream",
     "text": [
      "Failed to import pydot. You must install pydot and graphviz for `pydotprint` to work.\n"
     ]
    }
   ],
   "source": [
    "sample_decoder_layer = decoder_layer(\n",
    "    units=512,\n",
    "    d_model=128,\n",
    "    num_heads=4,\n",
    "    dropout=0.3,\n",
    "    name=\"sample_decoder_layer\")\n",
    "\n",
    "tf.keras.utils.plot_model(\n",
    "    sample_decoder_layer, to_file='decoder_layer.png', show_shapes=True)"
   ]
  },
  {
   "cell_type": "markdown",
   "metadata": {
    "colab_type": "text",
    "id": "NPSKnjS-gE_q"
   },
   "source": [
    "### Decoder\n",
    "\n",
    "The Decoder consists of:\n",
    "1.   Output Embedding\n",
    "2.   Positional Encoding\n",
    "3.   N decoder layers\n",
    "\n",
    "The target is put through an embedding which is summed with the positional encoding. The output of this summation is the input to the decoder layers. The output of the decoder is the input to the final linear layer."
   ]
  },
  {
   "cell_type": "code",
   "execution_count": 47,
   "metadata": {
    "colab": {},
    "colab_type": "code",
    "id": "dYRx7YzCW4bu"
   },
   "outputs": [],
   "source": [
    "def decoder(vocab_size,\n",
    "            num_layers,\n",
    "            units,\n",
    "            d_model,\n",
    "            num_heads,\n",
    "            dropout,\n",
    "            name='decoder'):\n",
    "  inputs = tf.keras.Input(shape=(None,), name='inputs')\n",
    "  enc_outputs = tf.keras.Input(shape=(None, d_model), name='encoder_outputs')\n",
    "  look_ahead_mask = tf.keras.Input(\n",
    "      shape=(1, None, None), name='look_ahead_mask')\n",
    "  padding_mask = tf.keras.Input(shape=(1, 1, None), name='padding_mask')\n",
    "  \n",
    "  embeddings = tf.keras.layers.Embedding(vocab_size, d_model)(inputs)\n",
    "  embeddings *= tf.math.sqrt(tf.cast(d_model, tf.float32))\n",
    "  embeddings = PositionalEncoding(vocab_size, d_model)(embeddings)\n",
    "\n",
    "  outputs = tf.keras.layers.Dropout(rate=dropout)(embeddings)\n",
    "\n",
    "  for i in range(num_layers):\n",
    "    outputs = decoder_layer(\n",
    "        units=units,\n",
    "        d_model=d_model,\n",
    "        num_heads=num_heads,\n",
    "        dropout=dropout,\n",
    "        name='decoder_layer_{}'.format(i),\n",
    "    )(inputs=[outputs, enc_outputs, look_ahead_mask, padding_mask])\n",
    "\n",
    "  return tf.keras.Model(\n",
    "      inputs=[inputs, enc_outputs, look_ahead_mask, padding_mask],\n",
    "      outputs=outputs,\n",
    "      name=name)"
   ]
  },
  {
   "cell_type": "code",
   "execution_count": 48,
   "metadata": {
    "colab": {
     "base_uri": "https://localhost:8080/",
     "height": 774
    },
    "colab_type": "code",
    "id": "tUdK8jb9hlTZ",
    "outputId": "3e9d5a6c-b223-483b-d50f-be37a11d11bd"
   },
   "outputs": [
    {
     "name": "stdout",
     "output_type": "stream",
     "text": [
      "Failed to import pydot. You must install pydot and graphviz for `pydotprint` to work.\n"
     ]
    }
   ],
   "source": [
    "sample_decoder = decoder(\n",
    "    vocab_size=8192,\n",
    "    num_layers=2,\n",
    "    units=512,\n",
    "    d_model=128,\n",
    "    num_heads=4,\n",
    "    dropout=0.3,\n",
    "    name=\"sample_decoder\")\n",
    "\n",
    "tf.keras.utils.plot_model(\n",
    "    sample_decoder, to_file='decoder.png', show_shapes=True)"
   ]
  },
  {
   "cell_type": "markdown",
   "metadata": {
    "colab_type": "text",
    "id": "yl0o97RJXAqw"
   },
   "source": [
    "### Transformer\n",
    "\n",
    "Transformer consists of the encoder, decoder and a final linear layer. The output of the decoder is the input to the linear layer and its output is returned."
   ]
  },
  {
   "cell_type": "code",
   "execution_count": 49,
   "metadata": {
    "colab": {},
    "colab_type": "code",
    "id": "TW-v7Fz6XAfC"
   },
   "outputs": [],
   "source": [
    "def transformer(vocab_size,\n",
    "                num_layers,\n",
    "                units,\n",
    "                d_model,\n",
    "                num_heads,\n",
    "                dropout,\n",
    "                name=\"transformer\"):\n",
    "  inputs = tf.keras.Input(shape=(None,), name=\"inputs\")\n",
    "  dec_inputs = tf.keras.Input(shape=(None,), name=\"dec_inputs\")\n",
    "\n",
    "  enc_padding_mask = tf.keras.layers.Lambda(\n",
    "      create_padding_mask, output_shape=(1, 1, None),\n",
    "      name='enc_padding_mask')(inputs)\n",
    "  # mask the future tokens for decoder inputs at the 1st attention block\n",
    "  look_ahead_mask = tf.keras.layers.Lambda(\n",
    "      create_look_ahead_mask,\n",
    "      output_shape=(1, None, None),\n",
    "      name='look_ahead_mask')(dec_inputs)\n",
    "  # mask the encoder outputs for the 2nd attention block\n",
    "  dec_padding_mask = tf.keras.layers.Lambda(\n",
    "      create_padding_mask, output_shape=(1, 1, None),\n",
    "      name='dec_padding_mask')(inputs)\n",
    "\n",
    "  enc_outputs = encoder(\n",
    "      vocab_size=vocab_size,\n",
    "      num_layers=num_layers,\n",
    "      units=units,\n",
    "      d_model=d_model,\n",
    "      num_heads=num_heads,\n",
    "      dropout=dropout,\n",
    "  )(inputs=[inputs, enc_padding_mask])\n",
    "\n",
    "  dec_outputs = decoder(\n",
    "      vocab_size=vocab_size,\n",
    "      num_layers=num_layers,\n",
    "      units=units,\n",
    "      d_model=d_model,\n",
    "      num_heads=num_heads,\n",
    "      dropout=dropout,\n",
    "  )(inputs=[dec_inputs, enc_outputs, look_ahead_mask, dec_padding_mask])\n",
    "\n",
    "  outputs = tf.keras.layers.Dense(units=vocab_size, name=\"outputs\")(dec_outputs)\n",
    "\n",
    "  return tf.keras.Model(inputs=[inputs, dec_inputs], outputs=outputs, name=name)"
   ]
  },
  {
   "cell_type": "code",
   "execution_count": 50,
   "metadata": {
    "colab": {
     "base_uri": "https://localhost:8080/",
     "height": 553
    },
    "colab_type": "code",
    "id": "aihJLVq_iJ_T",
    "outputId": "cb623cf5-f99d-47f7-a1a6-468e7f290b71"
   },
   "outputs": [
    {
     "name": "stdout",
     "output_type": "stream",
     "text": [
      "Failed to import pydot. You must install pydot and graphviz for `pydotprint` to work.\n"
     ]
    }
   ],
   "source": [
    "sample_transformer = transformer(\n",
    "    vocab_size=8192,\n",
    "    num_layers=4,\n",
    "    units=512,\n",
    "    d_model=128,\n",
    "    num_heads=4,\n",
    "    dropout=0.3,\n",
    "    name=\"sample_transformer\")\n",
    "\n",
    "tf.keras.utils.plot_model(\n",
    "    sample_transformer, to_file='transformer.png', show_shapes=True)"
   ]
  },
  {
   "cell_type": "markdown",
   "metadata": {
    "colab_type": "text",
    "id": "9HD7GK-nh_KT"
   },
   "source": [
    "## Train model"
   ]
  },
  {
   "cell_type": "markdown",
   "metadata": {
    "colab_type": "text",
    "id": "PDDxNpA-5Q5t"
   },
   "source": [
    "### Initialize model\n",
    "\n",
    "To keep this example small and relatively fast, the values for *num_layers, d_model, and units* have been reduced. See the [paper](https://arxiv.org/abs/1706.03762) for all the other versions of the transformer."
   ]
  },
  {
   "cell_type": "code",
   "execution_count": 51,
   "metadata": {
    "colab": {},
    "colab_type": "code",
    "id": "xE3unrOT5M5z"
   },
   "outputs": [],
   "source": [
    "tf.keras.backend.clear_session()\n",
    "\n",
    "# Hyper-parameters\n",
    "NUM_LAYERS = 2\n",
    "D_MODEL = 256\n",
    "NUM_HEADS = 8\n",
    "UNITS = 512\n",
    "DROPOUT = 0.1\n",
    "\n",
    "model = transformer(\n",
    "    vocab_size=VOCAB_SIZE,\n",
    "    num_layers=NUM_LAYERS,\n",
    "    units=UNITS,\n",
    "    d_model=D_MODEL,\n",
    "    num_heads=NUM_HEADS,\n",
    "    dropout=DROPOUT)"
   ]
  },
  {
   "cell_type": "markdown",
   "metadata": {
    "colab_type": "text",
    "id": "0_GCb0LaV1tI"
   },
   "source": [
    "### Loss function\n",
    "\n",
    "Since the target sequences are padded, it is important to apply a padding mask when calculating the loss."
   ]
  },
  {
   "cell_type": "code",
   "execution_count": 52,
   "metadata": {
    "colab": {},
    "colab_type": "code",
    "id": "UInVM9iGAMv1"
   },
   "outputs": [],
   "source": [
    "def loss_function(y_true, y_pred):\n",
    "  y_true = tf.reshape(y_true, shape=(-1, MAX_LENGTH - 1))\n",
    "  \n",
    "  loss = tf.keras.losses.SparseCategoricalCrossentropy(\n",
    "      from_logits=True, reduction='none')(y_true, y_pred)\n",
    "\n",
    "  mask = tf.cast(tf.not_equal(y_true, 0), tf.float32)\n",
    "  loss = tf.multiply(loss, mask)\n",
    "\n",
    "  return tf.reduce_mean(loss)"
   ]
  },
  {
   "cell_type": "markdown",
   "metadata": {
    "colab_type": "text",
    "id": "XvFM9ajSVybP"
   },
   "source": [
    "### Custom learning rate\n",
    "\n",
    "Use the Adam optimizer with a custom learning rate scheduler according to the formula in the [paper](https://arxiv.org/abs/1706.03762).\n",
    "\n",
    "$$\\Large{lrate = d_{model}^{-0.5} * min(step{\\_}num^{-0.5}, step{\\_}num * warmup{\\_}steps^{-1.5})}$$"
   ]
  },
  {
   "cell_type": "code",
   "execution_count": 53,
   "metadata": {
    "colab": {},
    "colab_type": "code",
    "id": "WW3SeLDhAMJd"
   },
   "outputs": [],
   "source": [
    "class CustomSchedule(tf.keras.optimizers.schedules.LearningRateSchedule):\n",
    "\n",
    "  def __init__(self, d_model, warmup_steps=4000):\n",
    "    super(CustomSchedule, self).__init__()\n",
    "\n",
    "    self.d_model = d_model\n",
    "    self.d_model = tf.cast(self.d_model, tf.float32)\n",
    "\n",
    "    self.warmup_steps = warmup_steps\n",
    "\n",
    "  def __call__(self, step):\n",
    "    arg1 = tf.math.rsqrt(step)\n",
    "    arg2 = step * (self.warmup_steps**-1.5)\n",
    "\n",
    "    return tf.math.rsqrt(self.d_model) * tf.math.minimum(arg1, arg2)"
   ]
  },
  {
   "cell_type": "code",
   "execution_count": 54,
   "metadata": {
    "colab": {
     "base_uri": "https://localhost:8080/",
     "height": 300
    },
    "colab_type": "code",
    "id": "67BoG_UeaHHw",
    "outputId": "904f2155-eed1-4533-d6f4-83f06d26a5cb"
   },
   "outputs": [
    {
     "data": {
      "text/plain": [
       "Text(0.5, 0, 'Train Step')"
      ]
     },
     "execution_count": 54,
     "metadata": {},
     "output_type": "execute_result"
    },
    {
     "data": {
      "image/png": "[encoded data removed]",
      "text/plain": [
       "<Figure size 432x288 with 1 Axes>"
      ]
     },
     "metadata": {
      "needs_background": "light"
     },
     "output_type": "display_data"
    }
   ],
   "source": [
    "sample_learning_rate = CustomSchedule(d_model=128)\n",
    "\n",
    "plt.plot(sample_learning_rate(tf.range(200000, dtype=tf.float32)))\n",
    "plt.ylabel(\"Learning Rate\")\n",
    "plt.xlabel(\"Train Step\")"
   ]
  },
  {
   "cell_type": "markdown",
   "metadata": {
    "colab_type": "text",
    "id": "cCqve3kwWCxd"
   },
   "source": [
    "### Compile Model\n"
   ]
  },
  {
   "cell_type": "code",
   "execution_count": 55,
   "metadata": {
    "colab": {},
    "colab_type": "code",
    "id": "1QqojIa5WEQq"
   },
   "outputs": [],
   "source": [
    "learning_rate = CustomSchedule(D_MODEL)\n",
    "\n",
    "optimizer = tf.keras.optimizers.Adam(\n",
    "    learning_rate, beta_1=0.9, beta_2=0.98, epsilon=1e-9)\n",
    "\n",
    "def accuracy(y_true, y_pred):\n",
    "  # ensure labels have shape (batch_size, MAX_LENGTH - 1)\n",
    "  y_true = tf.reshape(y_true, shape=(-1, MAX_LENGTH - 1))\n",
    "  return tf.keras.metrics.sparse_categorical_accuracy(y_true, y_pred)\n",
    "\n",
    "model.compile(optimizer=optimizer, loss=loss_function, metrics=[accuracy])"
   ]
  },
  {
   "cell_type": "markdown",
   "metadata": {
    "colab_type": "text",
    "id": "vDMd69urLNuc"
   },
   "source": [
    "### Fit model\n",
    "\n",
    "Train our transformer by simply calling `model.fit()`"
   ]
  },
  {
   "cell_type": "code",
   "execution_count": 73,
   "metadata": {
    "colab": {
     "base_uri": "https://localhost:8080/",
     "height": 725
    },
    "colab_type": "code",
    "id": "d7iahRzlLNG2",
    "outputId": "244d0fcb-eb0f-415f-a8a0-46145fab9998"
   },
   "outputs": [
    {
     "name": "stdout",
     "output_type": "stream",
     "text": [
      "Epoch 1/60\n",
      "28/28 [==============================] - 2s 77ms/step - loss: 1.5488 - accuracy: 0.0489\n",
      "Epoch 2/60\n",
      "28/28 [==============================] - 2s 77ms/step - loss: 1.4775 - accuracy: 0.0563\n",
      "Epoch 3/60\n",
      "28/28 [==============================] - 2s 77ms/step - loss: 1.4073 - accuracy: 0.0630\n",
      "Epoch 4/60\n",
      "28/28 [==============================] - 2s 77ms/step - loss: 1.3402 - accuracy: 0.0695\n",
      "Epoch 5/60\n",
      "28/28 [==============================] - 2s 77ms/step - loss: 1.2775 - accuracy: 0.0750\n",
      "Epoch 6/60\n",
      "28/28 [==============================] - 2s 77ms/step - loss: 1.2197 - accuracy: 0.0807\n",
      "Epoch 7/60\n",
      "28/28 [==============================] - 2s 77ms/step - loss: 1.1657 - accuracy: 0.0874\n",
      "Epoch 8/60\n",
      "28/28 [==============================] - 2s 78ms/step - loss: 1.1172 - accuracy: 0.0928\n",
      "Epoch 9/60\n",
      "28/28 [==============================] - 2s 77ms/step - loss: 1.0711 - accuracy: 0.0989\n",
      "Epoch 10/60\n",
      "28/28 [==============================] - 2s 78ms/step - loss: 1.0279 - accuracy: 0.1050\n",
      "Epoch 11/60\n",
      "28/28 [==============================] - 2s 80ms/step - loss: 0.9844 - accuracy: 0.1094\n",
      "Epoch 12/60\n",
      "28/28 [==============================] - 2s 77ms/step - loss: 0.9427 - accuracy: 0.1163\n",
      "Epoch 13/60\n",
      "28/28 [==============================] - 2s 79ms/step - loss: 0.9038 - accuracy: 0.1203\n",
      "Epoch 14/60\n",
      "28/28 [==============================] - 2s 79ms/step - loss: 0.8650 - accuracy: 0.1245\n",
      "Epoch 15/60\n",
      "28/28 [==============================] - 2s 79ms/step - loss: 0.8273 - accuracy: 0.1300\n",
      "Epoch 16/60\n",
      "28/28 [==============================] - 2s 78ms/step - loss: 0.7897 - accuracy: 0.1340\n",
      "Epoch 17/60\n",
      "28/28 [==============================] - 2s 78ms/step - loss: 0.7531 - accuracy: 0.1394\n",
      "Epoch 18/60\n",
      "28/28 [==============================] - 2s 78ms/step - loss: 0.7178 - accuracy: 0.1447\n",
      "Epoch 19/60\n",
      "28/28 [==============================] - 2s 79ms/step - loss: 0.6815 - accuracy: 0.1498\n",
      "Epoch 20/60\n",
      "28/28 [==============================] - 2s 79ms/step - loss: 0.6483 - accuracy: 0.1542\n",
      "Epoch 21/60\n",
      "28/28 [==============================] - 2s 78ms/step - loss: 0.6144 - accuracy: 0.1604\n",
      "Epoch 22/60\n",
      "28/28 [==============================] - 2s 79ms/step - loss: 0.5826 - accuracy: 0.1659\n",
      "Epoch 23/60\n",
      "28/28 [==============================] - 2s 78ms/step - loss: 0.5491 - accuracy: 0.1728\n",
      "Epoch 24/60\n",
      "28/28 [==============================] - 2s 79ms/step - loss: 0.5175 - accuracy: 0.1801\n",
      "Epoch 25/60\n",
      "28/28 [==============================] - 2s 80ms/step - loss: 0.4882 - accuracy: 0.1859\n",
      "Epoch 26/60\n",
      "28/28 [==============================] - 2s 79ms/step - loss: 0.4593 - accuracy: 0.1932\n",
      "Epoch 27/60\n",
      "28/28 [==============================] - 2s 79ms/step - loss: 0.4308 - accuracy: 0.2003\n",
      "Epoch 28/60\n",
      "28/28 [==============================] - 2s 78ms/step - loss: 0.4007 - accuracy: 0.2078\n",
      "Epoch 29/60\n",
      "28/28 [==============================] - 2s 79ms/step - loss: 0.3733 - accuracy: 0.2153\n",
      "Epoch 30/60\n",
      "28/28 [==============================] - 2s 80ms/step - loss: 0.3497 - accuracy: 0.2217\n",
      "Epoch 31/60\n",
      "28/28 [==============================] - 2s 79ms/step - loss: 0.3210 - accuracy: 0.2299\n",
      "Epoch 32/60\n",
      "28/28 [==============================] - 2s 78ms/step - loss: 0.2987 - accuracy: 0.2350\n",
      "Epoch 33/60\n",
      "28/28 [==============================] - 2s 79ms/step - loss: 0.2770 - accuracy: 0.2411\n",
      "Epoch 34/60\n",
      "28/28 [==============================] - 2s 79ms/step - loss: 0.2544 - accuracy: 0.2473\n",
      "Epoch 35/60\n",
      "28/28 [==============================] - 2s 79ms/step - loss: 0.2330 - accuracy: 0.2516\n",
      "Epoch 36/60\n",
      "28/28 [==============================] - 2s 79ms/step - loss: 0.2144 - accuracy: 0.2567\n",
      "Epoch 37/60\n",
      "28/28 [==============================] - 2s 79ms/step - loss: 0.1972 - accuracy: 0.2605\n",
      "Epoch 38/60\n",
      "28/28 [==============================] - 2s 79ms/step - loss: 0.1829 - accuracy: 0.2638\n",
      "Epoch 39/60\n",
      "28/28 [==============================] - 2s 79ms/step - loss: 0.1681 - accuracy: 0.2671\n",
      "Epoch 40/60\n",
      "28/28 [==============================] - 2s 79ms/step - loss: 0.1561 - accuracy: 0.2691\n",
      "Epoch 41/60\n",
      "28/28 [==============================] - 2s 79ms/step - loss: 0.1456 - accuracy: 0.2706\n",
      "Epoch 42/60\n",
      "28/28 [==============================] - 2s 79ms/step - loss: 0.1336 - accuracy: 0.2741\n",
      "Epoch 43/60\n",
      "28/28 [==============================] - 2s 81ms/step - loss: 0.1255 - accuracy: 0.2754\n",
      "Epoch 44/60\n",
      "28/28 [==============================] - 2s 80ms/step - loss: 0.1188 - accuracy: 0.2762\n",
      "Epoch 45/60\n",
      "28/28 [==============================] - 2s 78ms/step - loss: 0.1104 - accuracy: 0.2789\n",
      "Epoch 46/60\n",
      "28/28 [==============================] - 2s 78ms/step - loss: 0.1076 - accuracy: 0.2784\n",
      "Epoch 47/60\n",
      "28/28 [==============================] - 2s 77ms/step - loss: 0.1010 - accuracy: 0.2804\n",
      "Epoch 48/60\n",
      "28/28 [==============================] - 2s 79ms/step - loss: 0.0959 - accuracy: 0.2815\n",
      "Epoch 49/60\n",
      "28/28 [==============================] - 2s 77ms/step - loss: 0.0911 - accuracy: 0.2823\n",
      "Epoch 50/60\n",
      "28/28 [==============================] - 2s 78ms/step - loss: 0.0900 - accuracy: 0.2822\n",
      "Epoch 51/60\n",
      "28/28 [==============================] - 2s 79ms/step - loss: 0.0878 - accuracy: 0.2829\n",
      "Epoch 52/60\n",
      "28/28 [==============================] - 2s 78ms/step - loss: 0.0823 - accuracy: 0.2844\n",
      "Epoch 53/60\n",
      "28/28 [==============================] - 2s 79ms/step - loss: 0.0812 - accuracy: 0.2849\n",
      "Epoch 54/60\n",
      "28/28 [==============================] - 2s 79ms/step - loss: 0.0778 - accuracy: 0.2853\n",
      "Epoch 55/60\n",
      "28/28 [==============================] - 2s 78ms/step - loss: 0.0759 - accuracy: 0.2857\n",
      "Epoch 56/60\n",
      "28/28 [==============================] - 2s 79ms/step - loss: 0.0734 - accuracy: 0.2857\n",
      "Epoch 57/60\n",
      "28/28 [==============================] - 2s 79ms/step - loss: 0.0708 - accuracy: 0.2869\n",
      "Epoch 58/60\n",
      "28/28 [==============================] - 2s 79ms/step - loss: 0.0683 - accuracy: 0.2876\n",
      "Epoch 59/60\n",
      "28/28 [==============================] - 2s 79ms/step - loss: 0.0678 - accuracy: 0.2872\n",
      "Epoch 60/60\n",
      "28/28 [==============================] - 2s 79ms/step - loss: 0.0663 - accuracy: 0.2880\n"
     ]
    },
    {
     "data": {
      "text/plain": [
       "<tensorflow.python.keras.callbacks.History at 0x7f76b0076c18>"
      ]
     },
     "execution_count": 73,
     "metadata": {},
     "output_type": "execute_result"
    }
   ],
   "source": [
    "EPOCHS = 60\n",
    "\n",
    "model.fit(dataset, epochs=EPOCHS)"
   ]
  },
  {
   "cell_type": "markdown",
   "metadata": {
    "colab_type": "text",
    "id": "p1DUXog6WqV-"
   },
   "source": [
    "## Evaluate and predict\n",
    "\n",
    "The following steps are used for evaluation:\n",
    "\n",
    "* Apply the same preprocessing method we used to create our dataset for the input sentence.\n",
    "* Tokenize the input sentence and add `START_TOKEN` and `END_TOKEN`. \n",
    "* Calculate the padding masks and the look ahead masks.\n",
    "* The decoder then outputs the predictions by looking at the encoder output and its own output.\n",
    "* Select the last word and calculate the argmax of that.\n",
    "* Concatentate the predicted word to the decoder input as pass it to the decoder.\n",
    "* In this approach, the decoder predicts the next word based on the previous words it predicted.\n",
    "\n",
    "Note: The model used here has less capacity and trained on a subset of the full dataset, hence its performance can be further improved."
   ]
  },
  {
   "cell_type": "code",
   "execution_count": 74,
   "metadata": {
    "colab": {},
    "colab_type": "code",
    "id": "_NjsS3zuAbRn"
   },
   "outputs": [],
   "source": [
    "def evaluate(sentence):\n",
    "  #sentence = preprocess_sentence(sentence)\n",
    "\n",
    "  sentence = tf.expand_dims(\n",
    "      np.concatenate((START_TOKEN, sentence, END_TOKEN)), axis=0)\n",
    "  #import ipdb; ipdb.set_trace()\n",
    "  output = tf.expand_dims(START_TOKEN, 0)\n",
    "\n",
    "  for i in range(MAX_LENGTH):\n",
    "    predictions = model(inputs=[sentence, output], training=False)\n",
    "\n",
    "    # select the last word from the seq_len dimension\n",
    "    predictions = predictions[:, -1:, :]\n",
    "    predicted_id = tf.cast(tf.argmax(predictions, axis=-1), tf.int32)\n",
    "\n",
    "    # return the result if the predicted_id is equal to the end token\n",
    "    if tf.equal(predicted_id, END_TOKEN[0]):\n",
    "      break\n",
    "\n",
    "    # concatenated the predicted_id to the output which is given to the decoder\n",
    "    # as its input.\n",
    "    output = tf.concat([output, predicted_id], axis=-1)\n",
    "\n",
    "  return tf.squeeze(output, axis=0)\n",
    "\n",
    "\n",
    "def predict(sentence):\n",
    "  prediction = evaluate(sentence)\n",
    "\n",
    "  print('Input: {}'.format(sentence))\n",
    "  print('Output: {}'.format(prediction))\n",
    "\n",
    "  return prediction"
   ]
  },
  {
   "cell_type": "markdown",
   "metadata": {
    "colab_type": "text",
    "id": "9J3Jdtk2P-RT"
   },
   "source": [
    "Let's test our model!"
   ]
  },
  {
   "cell_type": "code",
   "execution_count": 88,
   "metadata": {
    "colab": {
     "base_uri": "https://localhost:8080/",
     "height": 52
    },
    "colab_type": "code",
    "id": "6IeMSGEgRTvC",
    "outputId": "5b98cd62-4a42-4b5c-8ddb-222cab99a639"
   },
   "outputs": [
    {
     "name": "stdout",
     "output_type": "stream",
     "text": [
      "input_chunks[1] = [3351 3372 3393 3419 3444 3465 3491 3516 3546 3571 3601]\n",
      "output_chunks[1] = [8292 8338 8389 8435 8477 8519 8565 8602 8648 8685 8717]\n",
      "Input: [3380 3394 3386 3449 3454 3465 3411 3516 3546 3572 3601]\n",
      "Output: [10000  8292  8338  8389  8435  8477  8519  8565  8602  8648  8685  8717]\n"
     ]
    }
   ],
   "source": [
    "print(\"input_chunks[1] = {}\".format(input_chunks[1]))\n",
    "print(\"output_chunks[1] = {}\".format(output_chunks[1]))\n",
    "test_input = np.array([3380, 3394, 3386, 3449, 3454, 3465, 3411, 3516, 3546, 3572, 3601])\n",
    "output = predict(test_input)"
   ]
  },
  {
   "cell_type": "code",
   "execution_count": 91,
   "metadata": {
    "colab": {
     "base_uri": "https://localhost:8080/",
     "height": 52
    },
    "colab_type": "code",
    "id": "ivVgU6ydRV8R",
    "outputId": "121ae5c7-7447-4d06-e2dd-563c8eae76ad"
   },
   "outputs": [
    {
     "data": {
      "image/png": "[encoded data removed]",
      "text/plain": [
       "<Figure size 432x288 with 1 Axes>"
      ]
     },
     "metadata": {
      "needs_background": "light"
     },
     "output_type": "display_data"
    }
   ],
   "source": [
    "test_input_len = len(test_input)\n",
    "l1, = plt.plot(range(test_input_len), test_input, 'bo', label = 'input sequence')\n",
    "plt_start = test_input_len\n",
    "plt_end = plt_start + len(output)\n",
    "l2, = plt.plot(range(plt_start, plt_end), output, 'ro', label = 'predicted output sequence')\n",
    "plt.legend(handles = [l1, l2], loc = 'lower left')\n",
    "plt.show()"
   ]
  },
  {
   "cell_type": "code",
   "execution_count": 89,
   "metadata": {
    "colab": {
     "base_uri": "https://localhost:8080/",
     "height": 276
    },
    "colab_type": "code",
    "id": "s5zG7i8KAtRU",
    "outputId": "9346903c-3958-45ab-d1bb-e56cc591bbbe"
   },
   "outputs": [
    {
     "name": "stdout",
     "output_type": "stream",
     "text": [
      "Input: [3380 3394 3386 3449 3454 3465 3411 3516 3546 3572 3601]\n",
      "Output: [10000  8292  8338  8389  8435  8477  8519  8565  8602  8648  8685  8717]\n",
      "\n",
      "Input: [10000  8292  8338  8389  8435  8477  8519  8565  8602  8648  8685  8717]\n",
      "Output: [10000  5369  5383  5397  5411  5420  5434  5443  5461  5471  5485  5489]\n",
      "\n",
      "Input: [10000  5369  5383  5397  5411  5420  5434  5443  5461  5471  5485  5489]\n",
      "Output: [10000  4851  4846  4833  4828  4819  4814  4805  4796  4786  4777  4772]\n",
      "\n",
      "Input: [10000  4851  4846  4833  4828  4819  4814  4805  4796  4786  4777  4772]\n",
      "Output: [10000  6946  7011  7071  7126  7182  7237  7293  7344  7399  7455  7510]\n",
      "\n",
      "Input: [10000  6946  7011  7071  7126  7182  7237  7293  7344  7399  7455  7510]\n",
      "Output: [10000  4833  4837  4837  4842  4842  4846  4851  4856  4860  4870  4879]\n",
      "\n"
     ]
    }
   ],
   "source": [
    "# feed the model with its previous output\n",
    "test_input = np.array([3380, 3394, 3386, 3449, 3454, 3465, 3411, 3516, 3546, 3572, 3601])\n",
    "for _ in range(5):\n",
    "  test_input = predict(test_input)\n",
    "  print('')"
   ]
  },
  {
   "cell_type": "markdown",
   "metadata": {
    "colab_type": "text",
    "id": "5-dGPc14QnAP"
   },
   "source": [
    "## Summary\n",
    "\n",
    "Here we are, we have implemented a Transformer in TensorFlow 2.0 in around 500 lines of code.\n",
    "\n",
    "In this tutorial, we focus on the two different approaches to implement complex models with Functional API and Model subclassing, and how to incorporate them.\n",
    "\n",
    "Try using a different dataset or hyper-parameters to train the Transformer! Thanks for reading.\n"
   ]
  }
 ],
 "metadata": {
  "accelerator": "GPU",
  "colab": {
   "collapsed_sections": [],
   "name": "transformer_chatbot_tf2_fix.ipynb",
   "provenance": [],
   "toc_visible": true
  },
  "kernelspec": {
   "display_name": "Python 3",
   "language": "python",
   "name": "python3"
  },
  "language_info": {
   "codemirror_mode": {
    "name": "ipython",
    "version": 3
   },
   "file_extension": ".py",
   "mimetype": "text/x-python",
   "name": "python",
   "nbconvert_exporter": "python",
   "pygments_lexer": "ipython3",
   "version": "3.6.9"
  }
 },
 "nbformat": 4,
 "nbformat_minor": 4
}
